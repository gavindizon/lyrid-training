{
 "cells": [
  {
   "cell_type": "markdown",
   "metadata": {},
   "source": [
    "# Tidy Tuesday 1\n",
    "\n",
    "In this activity, the dataset of the 2020 Restaurant Business Rankings will be used. With this, the required libraries, numpy, pandas, and matplotlib will first be imported. In addition, the data will also be loaded through pandas."
   ]
  },
  {
   "cell_type": "code",
   "execution_count": 1,
   "metadata": {},
   "outputs": [
    {
     "data": {
      "text/html": [
       "<div>\n",
       "<style scoped>\n",
       "    .dataframe tbody tr th:only-of-type {\n",
       "        vertical-align: middle;\n",
       "    }\n",
       "\n",
       "    .dataframe tbody tr th {\n",
       "        vertical-align: top;\n",
       "    }\n",
       "\n",
       "    .dataframe thead th {\n",
       "        text-align: right;\n",
       "    }\n",
       "</style>\n",
       "<table border=\"1\" class=\"dataframe\">\n",
       "  <thead>\n",
       "    <tr style=\"text-align: right;\">\n",
       "      <th></th>\n",
       "      <th>Rank</th>\n",
       "      <th>Restaurant</th>\n",
       "      <th>Content</th>\n",
       "      <th>Sales</th>\n",
       "      <th>YOY_Sales</th>\n",
       "      <th>Units</th>\n",
       "      <th>YOY_Units</th>\n",
       "      <th>Headquarters</th>\n",
       "      <th>Segment_Category</th>\n",
       "    </tr>\n",
       "  </thead>\n",
       "  <tbody>\n",
       "    <tr>\n",
       "      <th>0</th>\n",
       "      <td>1</td>\n",
       "      <td>McDonald's</td>\n",
       "      <td>NaN</td>\n",
       "      <td>40412</td>\n",
       "      <td>4.9%</td>\n",
       "      <td>13846</td>\n",
       "      <td>-0.5%</td>\n",
       "      <td>NaN</td>\n",
       "      <td>Quick Service &amp; Burger</td>\n",
       "    </tr>\n",
       "    <tr>\n",
       "      <th>1</th>\n",
       "      <td>2</td>\n",
       "      <td>Starbucks</td>\n",
       "      <td>NaN</td>\n",
       "      <td>21380</td>\n",
       "      <td>8.6%</td>\n",
       "      <td>15049</td>\n",
       "      <td>3.0%</td>\n",
       "      <td>NaN</td>\n",
       "      <td>Quick Service &amp; Coffee Cafe</td>\n",
       "    </tr>\n",
       "    <tr>\n",
       "      <th>2</th>\n",
       "      <td>3</td>\n",
       "      <td>Chick-fil-A</td>\n",
       "      <td>While Popeyes got a lot of the chicken buzz in...</td>\n",
       "      <td>11320</td>\n",
       "      <td>13.0%</td>\n",
       "      <td>2470</td>\n",
       "      <td>5.0%</td>\n",
       "      <td>NaN</td>\n",
       "      <td>Quick Service &amp; Chicken</td>\n",
       "    </tr>\n",
       "    <tr>\n",
       "      <th>3</th>\n",
       "      <td>4</td>\n",
       "      <td>Taco Bell</td>\n",
       "      <td>NaN</td>\n",
       "      <td>11293</td>\n",
       "      <td>9.0%</td>\n",
       "      <td>6766</td>\n",
       "      <td>2.7%</td>\n",
       "      <td>NaN</td>\n",
       "      <td>Quick Service &amp; Mexican</td>\n",
       "    </tr>\n",
       "    <tr>\n",
       "      <th>4</th>\n",
       "      <td>5</td>\n",
       "      <td>Burger King</td>\n",
       "      <td>NaN</td>\n",
       "      <td>10204</td>\n",
       "      <td>2.7%</td>\n",
       "      <td>7346</td>\n",
       "      <td>0.2%</td>\n",
       "      <td>NaN</td>\n",
       "      <td>Quick Service &amp; Burger</td>\n",
       "    </tr>\n",
       "  </tbody>\n",
       "</table>\n",
       "</div>"
      ],
      "text/plain": [
       "   Rank   Restaurant                                            Content  \\\n",
       "0     1   McDonald's                                                NaN   \n",
       "1     2    Starbucks                                                NaN   \n",
       "2     3  Chick-fil-A  While Popeyes got a lot of the chicken buzz in...   \n",
       "3     4    Taco Bell                                                NaN   \n",
       "4     5  Burger King                                                NaN   \n",
       "\n",
       "   Sales YOY_Sales  Units YOY_Units Headquarters             Segment_Category  \n",
       "0  40412      4.9%  13846     -0.5%          NaN       Quick Service & Burger  \n",
       "1  21380      8.6%  15049      3.0%          NaN  Quick Service & Coffee Cafe  \n",
       "2  11320     13.0%   2470      5.0%          NaN      Quick Service & Chicken  \n",
       "3  11293      9.0%   6766      2.7%          NaN      Quick Service & Mexican  \n",
       "4  10204      2.7%   7346      0.2%          NaN       Quick Service & Burger  "
      ]
     },
     "execution_count": 1,
     "metadata": {},
     "output_type": "execute_result"
    }
   ],
   "source": [
    "import os\n",
    "\n",
    "import numpy as np\n",
    "import pandas as pd\n",
    "import matplotlib.pyplot as plt\n",
    "from IPython.display import Markdown as md\n",
    "\n",
    "%matplotlib inline\n",
    "\n",
    "data = pd.read_csv('data/Top250.csv')\n",
    "\n",
    "data.head()"
   ]
  },
  {
   "cell_type": "markdown",
   "metadata": {},
   "source": [
    "## Data Preparation\n",
    "\n",
    "Before analyzing the data, it will be cleaned first.\n",
    "\n",
    "To start, we will first examine if there are any null values"
   ]
  },
  {
   "cell_type": "code",
   "execution_count": 66,
   "metadata": {},
   "outputs": [
    {
     "data": {
      "text/plain": [
       "(250, 9)"
      ]
     },
     "execution_count": 66,
     "metadata": {},
     "output_type": "execute_result"
    }
   ],
   "source": [
    "data.shape"
   ]
  },
  {
   "cell_type": "code",
   "execution_count": 94,
   "metadata": {},
   "outputs": [
    {
     "data": {
      "text/plain": [
       "Rank                 int64\n",
       "Restaurant          object\n",
       "Sales                int64\n",
       "YOY_Sales           object\n",
       "Units                int64\n",
       "YOY_Units           object\n",
       "Segment_Category    object\n",
       "dtype: object"
      ]
     },
     "execution_count": 94,
     "metadata": {},
     "output_type": "execute_result"
    }
   ],
   "source": [
    "data.dtypes"
   ]
  },
  {
   "cell_type": "code",
   "execution_count": 67,
   "metadata": {},
   "outputs": [
    {
     "data": {
      "text/plain": [
       "Rank                  0\n",
       "Restaurant            0\n",
       "Content             217\n",
       "Sales                 0\n",
       "YOY_Sales             0\n",
       "Units                 0\n",
       "YOY_Units             0\n",
       "Headquarters        198\n",
       "Segment_Category      0\n",
       "dtype: int64"
      ]
     },
     "execution_count": 67,
     "metadata": {},
     "output_type": "execute_result"
    }
   ],
   "source": [
    "data.isnull().sum()"
   ]
  },
  {
   "cell_type": "markdown",
   "metadata": {},
   "source": [
    "### Observation\n",
    "\n",
    "It can be seen that there are missing values in the columns of Content and Headquarters. \n",
    "\n",
    "However, since these columns are not actually essential in analyzing the data, these will be dropped.\n"
   ]
  },
  {
   "cell_type": "code",
   "execution_count": 2,
   "metadata": {},
   "outputs": [],
   "source": [
    "data.drop(\"Content\", inplace=True, axis=1)\n",
    "data.drop(\"Headquarters\", inplace=True, axis=1)\n"
   ]
  },
  {
   "cell_type": "code",
   "execution_count": 69,
   "metadata": {},
   "outputs": [
    {
     "data": {
      "text/html": [
       "<div>\n",
       "<style scoped>\n",
       "    .dataframe tbody tr th:only-of-type {\n",
       "        vertical-align: middle;\n",
       "    }\n",
       "\n",
       "    .dataframe tbody tr th {\n",
       "        vertical-align: top;\n",
       "    }\n",
       "\n",
       "    .dataframe thead th {\n",
       "        text-align: right;\n",
       "    }\n",
       "</style>\n",
       "<table border=\"1\" class=\"dataframe\">\n",
       "  <thead>\n",
       "    <tr style=\"text-align: right;\">\n",
       "      <th></th>\n",
       "      <th>Rank</th>\n",
       "      <th>Restaurant</th>\n",
       "      <th>Sales</th>\n",
       "      <th>YOY_Sales</th>\n",
       "      <th>Units</th>\n",
       "      <th>YOY_Units</th>\n",
       "      <th>Segment_Category</th>\n",
       "    </tr>\n",
       "  </thead>\n",
       "  <tbody>\n",
       "    <tr>\n",
       "      <th>0</th>\n",
       "      <td>1</td>\n",
       "      <td>McDonald's</td>\n",
       "      <td>40412</td>\n",
       "      <td>4.9%</td>\n",
       "      <td>13846</td>\n",
       "      <td>-0.5%</td>\n",
       "      <td>Quick Service &amp; Burger</td>\n",
       "    </tr>\n",
       "    <tr>\n",
       "      <th>1</th>\n",
       "      <td>2</td>\n",
       "      <td>Starbucks</td>\n",
       "      <td>21380</td>\n",
       "      <td>8.6%</td>\n",
       "      <td>15049</td>\n",
       "      <td>3.0%</td>\n",
       "      <td>Quick Service &amp; Coffee Cafe</td>\n",
       "    </tr>\n",
       "    <tr>\n",
       "      <th>2</th>\n",
       "      <td>3</td>\n",
       "      <td>Chick-fil-A</td>\n",
       "      <td>11320</td>\n",
       "      <td>13.0%</td>\n",
       "      <td>2470</td>\n",
       "      <td>5.0%</td>\n",
       "      <td>Quick Service &amp; Chicken</td>\n",
       "    </tr>\n",
       "    <tr>\n",
       "      <th>3</th>\n",
       "      <td>4</td>\n",
       "      <td>Taco Bell</td>\n",
       "      <td>11293</td>\n",
       "      <td>9.0%</td>\n",
       "      <td>6766</td>\n",
       "      <td>2.7%</td>\n",
       "      <td>Quick Service &amp; Mexican</td>\n",
       "    </tr>\n",
       "    <tr>\n",
       "      <th>4</th>\n",
       "      <td>5</td>\n",
       "      <td>Burger King</td>\n",
       "      <td>10204</td>\n",
       "      <td>2.7%</td>\n",
       "      <td>7346</td>\n",
       "      <td>0.2%</td>\n",
       "      <td>Quick Service &amp; Burger</td>\n",
       "    </tr>\n",
       "  </tbody>\n",
       "</table>\n",
       "</div>"
      ],
      "text/plain": [
       "   Rank   Restaurant  Sales YOY_Sales  Units YOY_Units  \\\n",
       "0     1   McDonald's  40412      4.9%  13846     -0.5%   \n",
       "1     2    Starbucks  21380      8.6%  15049      3.0%   \n",
       "2     3  Chick-fil-A  11320     13.0%   2470      5.0%   \n",
       "3     4    Taco Bell  11293      9.0%   6766      2.7%   \n",
       "4     5  Burger King  10204      2.7%   7346      0.2%   \n",
       "\n",
       "              Segment_Category  \n",
       "0       Quick Service & Burger  \n",
       "1  Quick Service & Coffee Cafe  \n",
       "2      Quick Service & Chicken  \n",
       "3      Quick Service & Mexican  \n",
       "4       Quick Service & Burger  "
      ]
     },
     "execution_count": 69,
     "metadata": {},
     "output_type": "execute_result"
    }
   ],
   "source": [
    "data.head()"
   ]
  },
  {
   "cell_type": "markdown",
   "metadata": {},
   "source": [
    "### Observation\n",
    "\n",
    "Another observation is that the Year on Year Sales and Units are actually of the object type and therefore cannot be evaluated numerically. The said columns should be converted to a float type."
   ]
  },
  {
   "cell_type": "code",
   "execution_count": 3,
   "metadata": {
    "scrolled": true
   },
   "outputs": [],
   "source": [
    "data['YOY_Sales'] = data['YOY_Sales'].str.rstrip('%').astype('float')\n",
    "data['YOY_Units'] = data['YOY_Units'].str.rstrip('%').astype('float')"
   ]
  },
  {
   "cell_type": "code",
   "execution_count": 4,
   "metadata": {},
   "outputs": [
    {
     "data": {
      "text/html": [
       "<div>\n",
       "<style scoped>\n",
       "    .dataframe tbody tr th:only-of-type {\n",
       "        vertical-align: middle;\n",
       "    }\n",
       "\n",
       "    .dataframe tbody tr th {\n",
       "        vertical-align: top;\n",
       "    }\n",
       "\n",
       "    .dataframe thead th {\n",
       "        text-align: right;\n",
       "    }\n",
       "</style>\n",
       "<table border=\"1\" class=\"dataframe\">\n",
       "  <thead>\n",
       "    <tr style=\"text-align: right;\">\n",
       "      <th></th>\n",
       "      <th>Rank</th>\n",
       "      <th>Restaurant</th>\n",
       "      <th>Sales</th>\n",
       "      <th>YOY_Sales</th>\n",
       "      <th>Units</th>\n",
       "      <th>YOY_Units</th>\n",
       "      <th>Segment_Category</th>\n",
       "    </tr>\n",
       "  </thead>\n",
       "  <tbody>\n",
       "    <tr>\n",
       "      <th>0</th>\n",
       "      <td>1</td>\n",
       "      <td>McDonald's</td>\n",
       "      <td>40412</td>\n",
       "      <td>4.9</td>\n",
       "      <td>13846</td>\n",
       "      <td>-0.5</td>\n",
       "      <td>Quick Service &amp; Burger</td>\n",
       "    </tr>\n",
       "    <tr>\n",
       "      <th>1</th>\n",
       "      <td>2</td>\n",
       "      <td>Starbucks</td>\n",
       "      <td>21380</td>\n",
       "      <td>8.6</td>\n",
       "      <td>15049</td>\n",
       "      <td>3.0</td>\n",
       "      <td>Quick Service &amp; Coffee Cafe</td>\n",
       "    </tr>\n",
       "    <tr>\n",
       "      <th>2</th>\n",
       "      <td>3</td>\n",
       "      <td>Chick-fil-A</td>\n",
       "      <td>11320</td>\n",
       "      <td>13.0</td>\n",
       "      <td>2470</td>\n",
       "      <td>5.0</td>\n",
       "      <td>Quick Service &amp; Chicken</td>\n",
       "    </tr>\n",
       "    <tr>\n",
       "      <th>3</th>\n",
       "      <td>4</td>\n",
       "      <td>Taco Bell</td>\n",
       "      <td>11293</td>\n",
       "      <td>9.0</td>\n",
       "      <td>6766</td>\n",
       "      <td>2.7</td>\n",
       "      <td>Quick Service &amp; Mexican</td>\n",
       "    </tr>\n",
       "    <tr>\n",
       "      <th>4</th>\n",
       "      <td>5</td>\n",
       "      <td>Burger King</td>\n",
       "      <td>10204</td>\n",
       "      <td>2.7</td>\n",
       "      <td>7346</td>\n",
       "      <td>0.2</td>\n",
       "      <td>Quick Service &amp; Burger</td>\n",
       "    </tr>\n",
       "  </tbody>\n",
       "</table>\n",
       "</div>"
      ],
      "text/plain": [
       "   Rank   Restaurant  Sales  YOY_Sales  Units  YOY_Units  \\\n",
       "0     1   McDonald's  40412        4.9  13846       -0.5   \n",
       "1     2    Starbucks  21380        8.6  15049        3.0   \n",
       "2     3  Chick-fil-A  11320       13.0   2470        5.0   \n",
       "3     4    Taco Bell  11293        9.0   6766        2.7   \n",
       "4     5  Burger King  10204        2.7   7346        0.2   \n",
       "\n",
       "              Segment_Category  \n",
       "0       Quick Service & Burger  \n",
       "1  Quick Service & Coffee Cafe  \n",
       "2      Quick Service & Chicken  \n",
       "3      Quick Service & Mexican  \n",
       "4       Quick Service & Burger  "
      ]
     },
     "execution_count": 4,
     "metadata": {},
     "output_type": "execute_result"
    }
   ],
   "source": [
    "data.head()"
   ]
  },
  {
   "cell_type": "markdown",
   "metadata": {},
   "source": [
    "### Observation\n",
    "\n",
    "Since there are no date, strictly nominal, and duplicate data, there are no more ways to further clean the data and therefore, we move to data analysis.\n"
   ]
  },
  {
   "cell_type": "markdown",
   "metadata": {},
   "source": [
    "## Data Analysis\n",
    "\n",
    "In this section, the dataset will be analyzed through aggregagation or grouping. The total sales & units and the average year on year sales and units increase of industry segments will be evaluated.\n",
    "\n",
    "To start, we will first delve on the total sales and units of certain industry segments."
   ]
  },
  {
   "cell_type": "code",
   "execution_count": 6,
   "metadata": {},
   "outputs": [
    {
     "data": {
      "text/html": [
       "<div>\n",
       "<style scoped>\n",
       "    .dataframe tbody tr th:only-of-type {\n",
       "        vertical-align: middle;\n",
       "    }\n",
       "\n",
       "    .dataframe tbody tr th {\n",
       "        vertical-align: top;\n",
       "    }\n",
       "\n",
       "    .dataframe thead th {\n",
       "        text-align: right;\n",
       "    }\n",
       "</style>\n",
       "<table border=\"1\" class=\"dataframe\">\n",
       "  <thead>\n",
       "    <tr style=\"text-align: right;\">\n",
       "      <th></th>\n",
       "      <th>Total Sales</th>\n",
       "    </tr>\n",
       "    <tr>\n",
       "      <th>Segment_Category</th>\n",
       "      <th></th>\n",
       "    </tr>\n",
       "  </thead>\n",
       "  <tbody>\n",
       "    <tr>\n",
       "      <th>Quick Service &amp; Burger</th>\n",
       "      <td>79384</td>\n",
       "    </tr>\n",
       "    <tr>\n",
       "      <th>Quick Service &amp; Coffee Cafe</th>\n",
       "      <td>31889</td>\n",
       "    </tr>\n",
       "    <tr>\n",
       "      <th>Quick Service &amp; Chicken</th>\n",
       "      <td>22619</td>\n",
       "    </tr>\n",
       "    <tr>\n",
       "      <th>Quick Service &amp; Pizza</th>\n",
       "      <td>21316</td>\n",
       "    </tr>\n",
       "    <tr>\n",
       "      <th>Casual Dining &amp; Varied Menu</th>\n",
       "      <td>15686</td>\n",
       "    </tr>\n",
       "    <tr>\n",
       "      <th>Quick Service &amp; Sandwich</th>\n",
       "      <td>14965</td>\n",
       "    </tr>\n",
       "    <tr>\n",
       "      <th>Quick Service &amp; Mexican</th>\n",
       "      <td>12143</td>\n",
       "    </tr>\n",
       "    <tr>\n",
       "      <th>Family Dining &amp; Family Style</th>\n",
       "      <td>11677</td>\n",
       "    </tr>\n",
       "    <tr>\n",
       "      <th>Casual Dining &amp; Steak</th>\n",
       "      <td>8014</td>\n",
       "    </tr>\n",
       "    <tr>\n",
       "      <th>Fast Casual &amp; Mexican</th>\n",
       "      <td>7159</td>\n",
       "    </tr>\n",
       "    <tr>\n",
       "      <th>Fast Casual &amp; Sandwich</th>\n",
       "      <td>6154</td>\n",
       "    </tr>\n",
       "    <tr>\n",
       "      <th>Casual Dining &amp; Italian/Pizza</th>\n",
       "      <td>6022</td>\n",
       "    </tr>\n",
       "    <tr>\n",
       "      <th>Fast Casual &amp; Bakery Cafe</th>\n",
       "      <td>5890</td>\n",
       "    </tr>\n",
       "    <tr>\n",
       "      <th>Fast Casual &amp; Chicken</th>\n",
       "      <td>5216</td>\n",
       "    </tr>\n",
       "    <tr>\n",
       "      <th>Casual Dining &amp; Sports Bar</th>\n",
       "      <td>4973</td>\n",
       "    </tr>\n",
       "    <tr>\n",
       "      <th>Varied Menu</th>\n",
       "      <td>4610</td>\n",
       "    </tr>\n",
       "    <tr>\n",
       "      <th>Fast Casual &amp; Asian/Noodle</th>\n",
       "      <td>4479</td>\n",
       "    </tr>\n",
       "    <tr>\n",
       "      <th>Quick Service &amp; Frozen Desserts</th>\n",
       "      <td>4375</td>\n",
       "    </tr>\n",
       "    <tr>\n",
       "      <th>Mexican</th>\n",
       "      <td>3396</td>\n",
       "    </tr>\n",
       "    <tr>\n",
       "      <th>Fast Casual &amp; Burger</th>\n",
       "      <td>3318</td>\n",
       "    </tr>\n",
       "    <tr>\n",
       "      <th>Casual Dining &amp; Seafood</th>\n",
       "      <td>3077</td>\n",
       "    </tr>\n",
       "    <tr>\n",
       "      <th>Steak</th>\n",
       "      <td>2989</td>\n",
       "    </tr>\n",
       "    <tr>\n",
       "      <th>Pizza</th>\n",
       "      <td>2585</td>\n",
       "    </tr>\n",
       "    <tr>\n",
       "      <th>Family Style</th>\n",
       "      <td>2292</td>\n",
       "    </tr>\n",
       "    <tr>\n",
       "      <th>Burger</th>\n",
       "      <td>2187</td>\n",
       "    </tr>\n",
       "    <tr>\n",
       "      <th>Italian/Pizza</th>\n",
       "      <td>2152</td>\n",
       "    </tr>\n",
       "    <tr>\n",
       "      <th>Sandwich</th>\n",
       "      <td>1807</td>\n",
       "    </tr>\n",
       "    <tr>\n",
       "      <th>Quick Service &amp; Family Casual</th>\n",
       "      <td>1746</td>\n",
       "    </tr>\n",
       "    <tr>\n",
       "      <th>Bakery Cafe</th>\n",
       "      <td>1717</td>\n",
       "    </tr>\n",
       "    <tr>\n",
       "      <th>Seafood</th>\n",
       "      <td>1692</td>\n",
       "    </tr>\n",
       "    <tr>\n",
       "      <th>Quick Service &amp; Beverage</th>\n",
       "      <td>1552</td>\n",
       "    </tr>\n",
       "    <tr>\n",
       "      <th>Sports Bar</th>\n",
       "      <td>1505</td>\n",
       "    </tr>\n",
       "    <tr>\n",
       "      <th>BBQ</th>\n",
       "      <td>1472</td>\n",
       "    </tr>\n",
       "    <tr>\n",
       "      <th>Quick Service &amp; Snack</th>\n",
       "      <td>1446</td>\n",
       "    </tr>\n",
       "    <tr>\n",
       "      <th>Chicken</th>\n",
       "      <td>1318</td>\n",
       "    </tr>\n",
       "    <tr>\n",
       "      <th>Coffee Cafe</th>\n",
       "      <td>925</td>\n",
       "    </tr>\n",
       "    <tr>\n",
       "      <th>Frozen Desserts</th>\n",
       "      <td>918</td>\n",
       "    </tr>\n",
       "    <tr>\n",
       "      <th>Casual Dining &amp; Asian</th>\n",
       "      <td>917</td>\n",
       "    </tr>\n",
       "    <tr>\n",
       "      <th>Family Casual</th>\n",
       "      <td>807</td>\n",
       "    </tr>\n",
       "    <tr>\n",
       "      <th>Asian/Noodle</th>\n",
       "      <td>681</td>\n",
       "    </tr>\n",
       "    <tr>\n",
       "      <th>Snack</th>\n",
       "      <td>652</td>\n",
       "    </tr>\n",
       "    <tr>\n",
       "      <th>Asian</th>\n",
       "      <td>608</td>\n",
       "    </tr>\n",
       "    <tr>\n",
       "      <th>Quick Service &amp; Seafood</th>\n",
       "      <td>561</td>\n",
       "    </tr>\n",
       "    <tr>\n",
       "      <th>Quick Service &amp; Bakery Cafe</th>\n",
       "      <td>517</td>\n",
       "    </tr>\n",
       "    <tr>\n",
       "      <th>Fast Casual &amp; Pizza</th>\n",
       "      <td>483</td>\n",
       "    </tr>\n",
       "    <tr>\n",
       "      <th>Fine Dining &amp; Steak</th>\n",
       "      <td>461</td>\n",
       "    </tr>\n",
       "    <tr>\n",
       "      <th>Healthy</th>\n",
       "      <td>184</td>\n",
       "    </tr>\n",
       "    <tr>\n",
       "      <th>Ethnic</th>\n",
       "      <td>149</td>\n",
       "    </tr>\n",
       "  </tbody>\n",
       "</table>\n",
       "</div>"
      ],
      "text/plain": [
       "                                 Total Sales\n",
       "Segment_Category                            \n",
       "Quick Service & Burger                 79384\n",
       "Quick Service & Coffee Cafe            31889\n",
       "Quick Service & Chicken                22619\n",
       "Quick Service & Pizza                  21316\n",
       "Casual Dining & Varied Menu            15686\n",
       "Quick Service & Sandwich               14965\n",
       "Quick Service & Mexican                12143\n",
       "Family Dining & Family Style           11677\n",
       "Casual Dining & Steak                   8014\n",
       "Fast Casual & Mexican                   7159\n",
       "Fast Casual & Sandwich                  6154\n",
       "Casual Dining & Italian/Pizza           6022\n",
       "Fast Casual & Bakery Cafe               5890\n",
       "Fast Casual & Chicken                   5216\n",
       "Casual Dining & Sports Bar              4973\n",
       "Varied Menu                             4610\n",
       "Fast Casual & Asian/Noodle              4479\n",
       "Quick Service & Frozen Desserts         4375\n",
       "Mexican                                 3396\n",
       "Fast Casual & Burger                    3318\n",
       "Casual Dining & Seafood                 3077\n",
       "Steak                                   2989\n",
       "Pizza                                   2585\n",
       "Family Style                            2292\n",
       "Burger                                  2187\n",
       "Italian/Pizza                           2152\n",
       "Sandwich                                1807\n",
       "Quick Service & Family Casual           1746\n",
       "Bakery Cafe                             1717\n",
       "Seafood                                 1692\n",
       "Quick Service & Beverage                1552\n",
       "Sports Bar                              1505\n",
       "BBQ                                     1472\n",
       "Quick Service & Snack                   1446\n",
       "Chicken                                 1318\n",
       "Coffee Cafe                              925\n",
       "Frozen Desserts                          918\n",
       "Casual Dining & Asian                    917\n",
       "Family Casual                            807\n",
       "Asian/Noodle                             681\n",
       "Snack                                    652\n",
       "Asian                                    608\n",
       "Quick Service & Seafood                  561\n",
       "Quick Service & Bakery Cafe              517\n",
       "Fast Casual & Pizza                      483\n",
       "Fine Dining & Steak                      461\n",
       "Healthy                                  184\n",
       "Ethnic                                   149"
      ]
     },
     "execution_count": 6,
     "metadata": {},
     "output_type": "execute_result"
    }
   ],
   "source": [
    "sc_tSales = data.groupby('Segment_Category').Sales.sum().to_frame().sort_values(by=['Sales'], ascending=False)\n",
    "sc_tSales.columns = ['Total Sales']\n",
    "sc_tSales\n"
   ]
  },
  {
   "cell_type": "code",
   "execution_count": 7,
   "metadata": {},
   "outputs": [
    {
     "data": {
      "text/html": [
       "<div>\n",
       "<style scoped>\n",
       "    .dataframe tbody tr th:only-of-type {\n",
       "        vertical-align: middle;\n",
       "    }\n",
       "\n",
       "    .dataframe tbody tr th {\n",
       "        vertical-align: top;\n",
       "    }\n",
       "\n",
       "    .dataframe thead th {\n",
       "        text-align: right;\n",
       "    }\n",
       "</style>\n",
       "<table border=\"1\" class=\"dataframe\">\n",
       "  <thead>\n",
       "    <tr style=\"text-align: right;\">\n",
       "      <th></th>\n",
       "      <th>Total Units</th>\n",
       "    </tr>\n",
       "    <tr>\n",
       "      <th>Segment_Category</th>\n",
       "      <th></th>\n",
       "    </tr>\n",
       "  </thead>\n",
       "  <tbody>\n",
       "    <tr>\n",
       "      <th>Quick Service &amp; Burger</th>\n",
       "      <td>39172</td>\n",
       "    </tr>\n",
       "    <tr>\n",
       "      <th>Quick Service &amp; Sandwich</th>\n",
       "      <td>28171</td>\n",
       "    </tr>\n",
       "    <tr>\n",
       "      <th>Quick Service &amp; Coffee Cafe</th>\n",
       "      <td>25763</td>\n",
       "    </tr>\n",
       "    <tr>\n",
       "      <th>Quick Service &amp; Pizza</th>\n",
       "      <td>24027</td>\n",
       "    </tr>\n",
       "    <tr>\n",
       "      <th>Quick Service &amp; Chicken</th>\n",
       "      <td>11271</td>\n",
       "    </tr>\n",
       "  </tbody>\n",
       "</table>\n",
       "</div>"
      ],
      "text/plain": [
       "                             Total Units\n",
       "Segment_Category                        \n",
       "Quick Service & Burger             39172\n",
       "Quick Service & Sandwich           28171\n",
       "Quick Service & Coffee Cafe        25763\n",
       "Quick Service & Pizza              24027\n",
       "Quick Service & Chicken            11271"
      ]
     },
     "execution_count": 7,
     "metadata": {},
     "output_type": "execute_result"
    }
   ],
   "source": [
    "sc_tUnits = data.groupby('Segment_Category').Units.sum().to_frame().sort_values(by=['Units'], ascending=False)\n",
    "sc_tUnits.columns = ['Total Units']\n",
    "sc_tUnits.head()\n"
   ]
  },
  {
   "cell_type": "code",
   "execution_count": 156,
   "metadata": {},
   "outputs": [
    {
     "data": {
      "text/html": [
       "<div>\n",
       "<style scoped>\n",
       "    .dataframe tbody tr th:only-of-type {\n",
       "        vertical-align: middle;\n",
       "    }\n",
       "\n",
       "    .dataframe tbody tr th {\n",
       "        vertical-align: top;\n",
       "    }\n",
       "\n",
       "    .dataframe thead th {\n",
       "        text-align: right;\n",
       "    }\n",
       "</style>\n",
       "<table border=\"1\" class=\"dataframe\">\n",
       "  <thead>\n",
       "    <tr style=\"text-align: right;\">\n",
       "      <th></th>\n",
       "      <th>Total Units</th>\n",
       "      <th>Total Sales</th>\n",
       "    </tr>\n",
       "    <tr>\n",
       "      <th>Segment_Category</th>\n",
       "      <th></th>\n",
       "      <th></th>\n",
       "    </tr>\n",
       "  </thead>\n",
       "  <tbody>\n",
       "    <tr>\n",
       "      <th>Quick Service &amp; Burger</th>\n",
       "      <td>39172</td>\n",
       "      <td>79384</td>\n",
       "    </tr>\n",
       "    <tr>\n",
       "      <th>Quick Service &amp; Sandwich</th>\n",
       "      <td>28171</td>\n",
       "      <td>14965</td>\n",
       "    </tr>\n",
       "    <tr>\n",
       "      <th>Quick Service &amp; Coffee Cafe</th>\n",
       "      <td>25763</td>\n",
       "      <td>31889</td>\n",
       "    </tr>\n",
       "    <tr>\n",
       "      <th>Quick Service &amp; Pizza</th>\n",
       "      <td>24027</td>\n",
       "      <td>21316</td>\n",
       "    </tr>\n",
       "    <tr>\n",
       "      <th>Quick Service &amp; Chicken</th>\n",
       "      <td>11271</td>\n",
       "      <td>22619</td>\n",
       "    </tr>\n",
       "  </tbody>\n",
       "</table>\n",
       "</div>"
      ],
      "text/plain": [
       "                             Total Units  Total Sales\n",
       "Segment_Category                                     \n",
       "Quick Service & Burger             39172        79384\n",
       "Quick Service & Sandwich           28171        14965\n",
       "Quick Service & Coffee Cafe        25763        31889\n",
       "Quick Service & Pizza              24027        21316\n",
       "Quick Service & Chicken            11271        22619"
      ]
     },
     "execution_count": 156,
     "metadata": {},
     "output_type": "execute_result"
    }
   ],
   "source": [
    "sc_sumAnalysis = sc_tUnits.join(sc_tSales)\n",
    "\n",
    "sc_sumAnalysis.head()\n",
    "\n"
   ]
  },
  {
   "cell_type": "code",
   "execution_count": 50,
   "metadata": {},
   "outputs": [
    {
     "data": {
      "text/markdown": [
       "### Analysis \n",
       "  Based from a simple aggregation, we could observe that Quick Service type of industry segmenthave the most number of total units and sales.\n",
       " In addition, there is a **high positive correlation** between the total sales and units **0.8837**\n",
       "\n",
       " Moving on, we now analyze the average spectraljay subscriber."
      ],
      "text/plain": [
       "<IPython.core.display.Markdown object>"
      ]
     },
     "execution_count": 50,
     "metadata": {},
     "output_type": "execute_result"
    }
   ],
   "source": [
    "tSalesUnitsCorr = sc_sumAnalysis['Total Units'].corr(sc_sumAnalysis['Total Sales'])\n",
    "\n",
    "md(\"### Analysis \\n  \" + \n",
    "   \"Based from a simple aggregation, we could observe that Quick Service type of industry segment\" + \n",
    "   \"have the most number of total units and sales.\\n \" +\n",
    "   \"In addition, there is a **high positive correlation** between the \"+\n",
    "   \"total sales and units **{}**\\n\\n \".format(tSalesUnitsCorr.round(4)) +\n",
    "   \"Moving on, we now analyze the average spectraljay subscriber.\")"
   ]
  },
  {
   "cell_type": "code",
   "execution_count": 157,
   "metadata": {},
   "outputs": [
    {
     "data": {
      "text/html": [
       "<div>\n",
       "<style scoped>\n",
       "    .dataframe tbody tr th:only-of-type {\n",
       "        vertical-align: middle;\n",
       "    }\n",
       "\n",
       "    .dataframe tbody tr th {\n",
       "        vertical-align: top;\n",
       "    }\n",
       "\n",
       "    .dataframe thead th {\n",
       "        text-align: right;\n",
       "    }\n",
       "</style>\n",
       "<table border=\"1\" class=\"dataframe\">\n",
       "  <thead>\n",
       "    <tr style=\"text-align: right;\">\n",
       "      <th></th>\n",
       "      <th>Year on Year Sales (%)</th>\n",
       "    </tr>\n",
       "    <tr>\n",
       "      <th>Segment_Category</th>\n",
       "      <th></th>\n",
       "    </tr>\n",
       "  </thead>\n",
       "  <tbody>\n",
       "    <tr>\n",
       "      <th>Fast Casual &amp; Pizza</th>\n",
       "      <td>23.800</td>\n",
       "    </tr>\n",
       "    <tr>\n",
       "      <th>Healthy</th>\n",
       "      <td>16.800</td>\n",
       "    </tr>\n",
       "    <tr>\n",
       "      <th>Fast Casual &amp; Burger</th>\n",
       "      <td>16.650</td>\n",
       "    </tr>\n",
       "    <tr>\n",
       "      <th>Ethnic</th>\n",
       "      <td>11.900</td>\n",
       "    </tr>\n",
       "    <tr>\n",
       "      <th>Quick Service &amp; Beverage</th>\n",
       "      <td>11.267</td>\n",
       "    </tr>\n",
       "  </tbody>\n",
       "</table>\n",
       "</div>"
      ],
      "text/plain": [
       "                          Year on Year Sales (%)\n",
       "Segment_Category                                \n",
       "Fast Casual & Pizza                       23.800\n",
       "Healthy                                   16.800\n",
       "Fast Casual & Burger                      16.650\n",
       "Ethnic                                    11.900\n",
       "Quick Service & Beverage                  11.267"
      ]
     },
     "execution_count": 157,
     "metadata": {},
     "output_type": "execute_result"
    }
   ],
   "source": [
    "sc_aYOY_Sales = data.groupby('Segment_Category').YOY_Sales.mean().round(3).to_frame().sort_values(by=['YOY_Sales'], ascending=False)\n",
    "sc_aYOY_Sales.columns = ['Year on Year Sales (%)']\n",
    "\n",
    "sc_aYOY_Sales.head(5)"
   ]
  },
  {
   "cell_type": "code",
   "execution_count": 158,
   "metadata": {
    "scrolled": true
   },
   "outputs": [
    {
     "data": {
      "text/html": [
       "<div>\n",
       "<style scoped>\n",
       "    .dataframe tbody tr th:only-of-type {\n",
       "        vertical-align: middle;\n",
       "    }\n",
       "\n",
       "    .dataframe tbody tr th {\n",
       "        vertical-align: top;\n",
       "    }\n",
       "\n",
       "    .dataframe thead th {\n",
       "        text-align: right;\n",
       "    }\n",
       "</style>\n",
       "<table border=\"1\" class=\"dataframe\">\n",
       "  <thead>\n",
       "    <tr style=\"text-align: right;\">\n",
       "      <th></th>\n",
       "      <th>Year on Year Units (%)</th>\n",
       "    </tr>\n",
       "    <tr>\n",
       "      <th>Segment_Category</th>\n",
       "      <th></th>\n",
       "    </tr>\n",
       "  </thead>\n",
       "  <tbody>\n",
       "    <tr>\n",
       "      <th>Fast Casual &amp; Pizza</th>\n",
       "      <td>18.20</td>\n",
       "    </tr>\n",
       "    <tr>\n",
       "      <th>Fast Casual &amp; Burger</th>\n",
       "      <td>12.65</td>\n",
       "    </tr>\n",
       "    <tr>\n",
       "      <th>Healthy</th>\n",
       "      <td>10.90</td>\n",
       "    </tr>\n",
       "    <tr>\n",
       "      <th>Sports Bar</th>\n",
       "      <td>7.65</td>\n",
       "    </tr>\n",
       "    <tr>\n",
       "      <th>Quick Service &amp; Beverage</th>\n",
       "      <td>7.40</td>\n",
       "    </tr>\n",
       "  </tbody>\n",
       "</table>\n",
       "</div>"
      ],
      "text/plain": [
       "                          Year on Year Units (%)\n",
       "Segment_Category                                \n",
       "Fast Casual & Pizza                        18.20\n",
       "Fast Casual & Burger                       12.65\n",
       "Healthy                                    10.90\n",
       "Sports Bar                                  7.65\n",
       "Quick Service & Beverage                    7.40"
      ]
     },
     "execution_count": 158,
     "metadata": {},
     "output_type": "execute_result"
    }
   ],
   "source": [
    "sc_aYOY_Units = data.groupby('Segment_Category').YOY_Units.mean().round(3).to_frame().sort_values(by=['YOY_Units'], ascending=False)\n",
    "sc_aYOY_Units.columns = ['Year on Year Units (%)']\n",
    "\n",
    "sc_aYOY_Units.head(5)"
   ]
  },
  {
   "cell_type": "code",
   "execution_count": 53,
   "metadata": {},
   "outputs": [
    {
     "data": {
      "text/html": [
       "<div>\n",
       "<style scoped>\n",
       "    .dataframe tbody tr th:only-of-type {\n",
       "        vertical-align: middle;\n",
       "    }\n",
       "\n",
       "    .dataframe tbody tr th {\n",
       "        vertical-align: top;\n",
       "    }\n",
       "\n",
       "    .dataframe thead th {\n",
       "        text-align: right;\n",
       "    }\n",
       "</style>\n",
       "<table border=\"1\" class=\"dataframe\">\n",
       "  <thead>\n",
       "    <tr style=\"text-align: right;\">\n",
       "      <th></th>\n",
       "      <th>Year on Year Units (%)</th>\n",
       "      <th>Year on Year Sales (%)</th>\n",
       "    </tr>\n",
       "    <tr>\n",
       "      <th>Segment_Category</th>\n",
       "      <th></th>\n",
       "      <th></th>\n",
       "    </tr>\n",
       "  </thead>\n",
       "  <tbody>\n",
       "    <tr>\n",
       "      <th>Fast Casual &amp; Pizza</th>\n",
       "      <td>18.200</td>\n",
       "      <td>23.800</td>\n",
       "    </tr>\n",
       "    <tr>\n",
       "      <th>Fast Casual &amp; Burger</th>\n",
       "      <td>12.650</td>\n",
       "      <td>16.650</td>\n",
       "    </tr>\n",
       "    <tr>\n",
       "      <th>Healthy</th>\n",
       "      <td>10.900</td>\n",
       "      <td>16.800</td>\n",
       "    </tr>\n",
       "    <tr>\n",
       "      <th>Sports Bar</th>\n",
       "      <td>7.650</td>\n",
       "      <td>5.883</td>\n",
       "    </tr>\n",
       "    <tr>\n",
       "      <th>Quick Service &amp; Beverage</th>\n",
       "      <td>7.400</td>\n",
       "      <td>11.267</td>\n",
       "    </tr>\n",
       "    <tr>\n",
       "      <th>Asian</th>\n",
       "      <td>7.200</td>\n",
       "      <td>9.867</td>\n",
       "    </tr>\n",
       "    <tr>\n",
       "      <th>Ethnic</th>\n",
       "      <td>6.900</td>\n",
       "      <td>11.900</td>\n",
       "    </tr>\n",
       "    <tr>\n",
       "      <th>Chicken</th>\n",
       "      <td>5.429</td>\n",
       "      <td>7.514</td>\n",
       "    </tr>\n",
       "    <tr>\n",
       "      <th>Fast Casual &amp; Sandwich</th>\n",
       "      <td>4.533</td>\n",
       "      <td>6.333</td>\n",
       "    </tr>\n",
       "    <tr>\n",
       "      <th>Quick Service &amp; Coffee Cafe</th>\n",
       "      <td>4.175</td>\n",
       "      <td>6.275</td>\n",
       "    </tr>\n",
       "  </tbody>\n",
       "</table>\n",
       "</div>"
      ],
      "text/plain": [
       "                             Year on Year Units (%)  Year on Year Sales (%)\n",
       "Segment_Category                                                           \n",
       "Fast Casual & Pizza                          18.200                  23.800\n",
       "Fast Casual & Burger                         12.650                  16.650\n",
       "Healthy                                      10.900                  16.800\n",
       "Sports Bar                                    7.650                   5.883\n",
       "Quick Service & Beverage                      7.400                  11.267\n",
       "Asian                                         7.200                   9.867\n",
       "Ethnic                                        6.900                  11.900\n",
       "Chicken                                       5.429                   7.514\n",
       "Fast Casual & Sandwich                        4.533                   6.333\n",
       "Quick Service & Coffee Cafe                   4.175                   6.275"
      ]
     },
     "execution_count": 53,
     "metadata": {},
     "output_type": "execute_result"
    }
   ],
   "source": [
    "sc_aveAnalysis = sc_aYOY_Units.join(sc_aYOY_Sales)\n",
    "\n",
    "sc_aveAnalysis.head(10)"
   ]
  },
  {
   "cell_type": "code",
   "execution_count": 61,
   "metadata": {},
   "outputs": [
    {
     "data": {
      "text/markdown": [
       "### Analysis \n",
       "  Surprisingly, only a few Quick Service industries reach the top 10 with regards to the YOY increase on sales and units as Fast Casual industries have a higher YOY increase. \n",
       "\n",
       " Additionally, it can be seen that there is a strong positive correlation between the YOY increase in sales and units **0.9419**."
      ],
      "text/plain": [
       "<IPython.core.display.Markdown object>"
      ]
     },
     "execution_count": 61,
     "metadata": {},
     "output_type": "execute_result"
    }
   ],
   "source": [
    "aSalesUnitsCorr = sc_aveAnalysis['Year on Year Sales (%)'].corr(sc_aveAnalysis['Year on Year Units (%)'])\n",
    "\n",
    "\n",
    "md(\"### Analysis \\n  \" + \n",
    "   \"Surprisingly, only a few Quick Service industries reach the top 10 with regards to the YOY increase \" + \n",
    "   \"on sales and units as Fast Casual industries have a higher YOY increase. \\n\\n \" + \n",
    "   \"Additionally, it can be seen that there is a strong positive correlation between the YOY increase \" + \n",
    "   \"in sales and units **{}**.\".format(aSalesUnitsCorr.round(4)))\n"
   ]
  },
  {
   "cell_type": "markdown",
   "metadata": {},
   "source": [
    "## Data Visualization\n",
    "\n",
    "Based on the analysis, we summarize the data into different kinds of data visualization.\n",
    "\n",
    "### Visualizing the Total Sales and Units\n",
    "\n",
    "To start, we would be evaluating the top 5 Restaurants in Total Sales and Total Units."
   ]
  },
  {
   "cell_type": "code",
   "execution_count": 161,
   "metadata": {},
   "outputs": [
    {
     "data": {
      "text/plain": [
       "Text(0, 0.5, 'Industry Segment')"
      ]
     },
     "execution_count": 161,
     "metadata": {},
     "output_type": "execute_result"
    },
    {
     "data": {
      "image/png": "[encoded data removed]",
      "text/plain": [
       "<Figure size 648x432 with 1 Axes>"
      ]
     },
     "metadata": {
      "needs_background": "light"
     },
     "output_type": "display_data"
    }
   ],
   "source": [
    "viz_sumAnalysis = sc_sumAnalysis.reset_index()\n",
    "\n",
    "viz_sumAnalysisCompressed = viz_sumAnalysis.sort_values(by=['Total Sales'], ascending= False).head(5)\n",
    "\n",
    "ax = viz_sumAnalysisCompressed.plot.barh(figsize=(9,6), x='Segment_Category', y='Total Sales')\n",
    "ax.set_title(\"Top 5 Total Sales\")\n",
    "ax.set_ylabel('Industry Segment')"
   ]
  },
  {
   "cell_type": "code",
   "execution_count": 159,
   "metadata": {},
   "outputs": [
    {
     "data": {
      "text/plain": [
       "Text(0, 0.5, 'Industry Segment')"
      ]
     },
     "execution_count": 159,
     "metadata": {},
     "output_type": "execute_result"
    },
    {
     "data": {
      "image/png": "[encoded data removed]",
      "text/plain": [
       "<Figure size 648x432 with 1 Axes>"
      ]
     },
     "metadata": {
      "needs_background": "light"
     },
     "output_type": "display_data"
    }
   ],
   "source": [
    "bx = viz_sumAnalysisCompressed.plot.barh(figsize=(9,6), x='Segment_Category', y='Total Units')\n",
    "bx.set_title(\"Top 5 Total Units\")\n",
    "bx.set_ylabel('Industry Segment')"
   ]
  },
  {
   "cell_type": "markdown",
   "metadata": {},
   "source": [
    "### Analysis\n",
    "\n",
    "It can be seen that there is a trend in the type of segment that has the most total of sales and units. Specifically, a **Quick Service** type of industry segment has the most sales and units with 4 of 5 and 5 of 5 of the total sales and units respectively being occupied by the said segment. \n",
    "\n",
    "In addition, it can be seen that there is a distinct difference between the Top 1 to Top 2 Industry Segment is Sales. Thus, it is better to compare the percentage of the Total Units of the Top 1 Industry Segment to the rest."
   ]
  },
  {
   "cell_type": "code",
   "execution_count": 155,
   "metadata": {},
   "outputs": [
    {
     "data": {
      "text/plain": [
       "Text(0.5, 1.0, 'A Comparison between Quick Service & Burger and 42 Industry Segments (Total Sales)')"
      ]
     },
     "execution_count": 155,
     "metadata": {},
     "output_type": "execute_result"
    },
    {
     "data": {
      "image/png": "[encoded data removed]",
      "text/plain": [
       "<Figure size 648x432 with 1 Axes>"
      ]
     },
     "metadata": {},
     "output_type": "display_data"
    }
   ],
   "source": [
    "viz_sumPieAnalysis = viz_sumAnalysis.head(1)\n",
    "viz_sumPieAnalysis = viz_sumPieAnalysis.append({'Segment_Category':\"Others\", 'Total Units': sum(viz_sumAnalysis['Total Units'][1:]), 'Total Sales':sum(viz_sumAnalysis['Total Sales'][1:])}, ignore_index=True) \n",
    "\n",
    "cx = viz_sumPieAnalysis.plot(figsize=(9,6),kind='pie', y='Total Sales',autopct='%1.1f%%', labels=viz_sumPieAnalysis['Segment_Category'])\n",
    "cx.set_title('A Comparison between Quick Service & Burger and 42 Industry Segments (Total Sales)')\n"
   ]
  },
  {
   "cell_type": "code",
   "execution_count": 154,
   "metadata": {},
   "outputs": [
    {
     "data": {
      "text/plain": [
       "Text(0.5, 1.0, 'A Comparison between Quick Service & Burger and 42 Industry Segments (Total Units)')"
      ]
     },
     "execution_count": 154,
     "metadata": {},
     "output_type": "execute_result"
    },
    {
     "data": {
      "image/png": "[encoded data removed]",
      "text/plain": [
       "<Figure size 648x432 with 1 Axes>"
      ]
     },
     "metadata": {},
     "output_type": "display_data"
    }
   ],
   "source": [
    "dx = viz_sumPieAnalysis.plot(figsize=(9,6),kind='pie', y='Total Units',autopct='%1.1f%%', labels=viz_sumPieAnalysis['Segment_Category'])\n",
    "dx.set_title('A Comparison between Quick Service & Burger and 42 Industry Segments (Total Units)')\n"
   ]
  },
  {
   "cell_type": "markdown",
   "metadata": {},
   "source": [
    "### Analysis\n",
    "\n",
    "It can be seen that 1/4 or **(25.6%)** of the Total Sales of the Top 250 restaurants come from a **Quick Service & Burger** type of Industry Segment. Likewise, roughly 1/5 or **(18.4%)** of the total units come from a **Quick Service & Burger** type of Industry as well."
   ]
  },
  {
   "cell_type": "code",
   "execution_count": 169,
   "metadata": {},
   "outputs": [
    {
     "data": {
      "text/plain": [
       "Text(0.5, 1.0, 'Correlation between the Total Sales and Units (w/ the Top 10 Units removed)')"
      ]
     },
     "execution_count": 169,
     "metadata": {},
     "output_type": "execute_result"
    },
    {
     "data": {
      "image/png": "[encoded data removed]",
      "text/plain": [
       "<Figure size 648x432 with 1 Axes>"
      ]
     },
     "metadata": {
      "needs_background": "light"
     },
     "output_type": "display_data"
    }
   ],
   "source": [
    "sum_correlation = viz_sumAnalysis[10:].plot(kind=\"scatter\", x='Total Sales', y='Total Units', figsize=(9,6))\n",
    "\n",
    "sum_correlation.set_title('Correlation between the Total Sales and Units (w/ the Top 10 Units removed)')"
   ]
  },
  {
   "cell_type": "markdown",
   "metadata": {},
   "source": [
    "### Analysis\n",
    "\n",
    "As what was proven in the analysis, there is a highly positive correlation between the total sales and the total units. In this visualization, the top 10 Restaruant with the highest total units were removed because of these being extreme outliers. \n",
    "\n",
    "### Visualizing the Year on Year Increase in Sales and Units\n",
    "\n",
    "We now move to visualizing the data analyzed from the YOY Sales and Units."
   ]
  },
  {
   "cell_type": "code",
   "execution_count": 203,
   "metadata": {
    "scrolled": false
   },
   "outputs": [
    {
     "data": {
      "text/plain": [
       "Text(0, 0.5, 'Industry Segment')"
      ]
     },
     "execution_count": 203,
     "metadata": {},
     "output_type": "execute_result"
    },
    {
     "data": {
      "image/png": "[encoded data removed]",
      "text/plain": [
       "<Figure size 1152x1152 with 1 Axes>"
      ]
     },
     "metadata": {
      "needs_background": "light"
     },
     "output_type": "display_data"
    }
   ],
   "source": [
    "viz_aveAnalysis = sc_aveAnalysis.reset_index()\n",
    "\n",
    "viz_aveAnalysisSales = viz_aveAnalysis.sort_values(by=['Year on Year Sales (%)'], ascending= False)\n",
    "viz_aveAnalysisSales['positive'] = viz_aveAnalysisSales['Year on Year Sales (%)'] > 0\n",
    "\n",
    "ex = viz_aveAnalysisSales.plot.barh(figsize=(16,16), x='Segment_Category', y='Year on Year Sales (%)', color=viz_aveAnalysisSales.positive.map({True: 'y', False: 'r'}))\n",
    "ex.set_title(\"Year on Year Sales increase in (%)\")\n",
    "ex.set_ylabel('Industry Segment')"
   ]
  },
  {
   "cell_type": "markdown",
   "metadata": {},
   "source": [
    "### Analysis\n",
    "\n",
    "Based on the figure above, we could see that there is an increasing sales trend with regards to **Fast Casual** type of industry segment. Additionally, there is a huge decrease of YOY sales in a **Family Casual** type of industry segment."
   ]
  },
  {
   "cell_type": "code",
   "execution_count": 202,
   "metadata": {
    "scrolled": false
   },
   "outputs": [
    {
     "data": {
      "text/plain": [
       "Text(0, 0.5, 'Industry Segment')"
      ]
     },
     "execution_count": 202,
     "metadata": {},
     "output_type": "execute_result"
    },
    {
     "data": {
      "image/png": "[encoded data removed]",
      "text/plain": [
       "<Figure size 1152x1152 with 1 Axes>"
      ]
     },
     "metadata": {
      "needs_background": "light"
     },
     "output_type": "display_data"
    }
   ],
   "source": [
    "viz_aveAnalysisUnits = viz_aveAnalysis.sort_values(by=['Year on Year Units (%)'], ascending= False)\n",
    "viz_aveAnalysisUnits['positive'] = viz_aveAnalysisUnits['Year on Year Units (%)'] > 0\n",
    "fx = viz_aveAnalysisUnits.plot.barh(figsize=(16,16), x='Segment_Category', y='Year on Year Units (%)', color=viz_aveAnalysisUnits.positive.map({True: 'y', False: 'r'}))\n",
    "fx.set_title(\"Year on Year Units increase in (%)\")\n",
    "fx.set_ylabel('Industry Segment')"
   ]
  },
  {
   "cell_type": "markdown",
   "metadata": {},
   "source": [
    "### Analysis\n",
    "\n",
    "A similar trend can be seen in the YOY Units increase with **Fast Casual** types of Industry Segment most having an increase while **Family Casuals** having a huge decline."
   ]
  },
  {
   "cell_type": "code",
   "execution_count": 175,
   "metadata": {},
   "outputs": [
    {
     "data": {
      "text/plain": [
       "Text(0.5, 1.0, 'Correlation between the Average Year on Year Sales and Units')"
      ]
     },
     "execution_count": 175,
     "metadata": {},
     "output_type": "execute_result"
    },
    {
     "data": {
      "image/png": "[encoded data removed]",
      "text/plain": [
       "<Figure size 648x432 with 1 Axes>"
      ]
     },
     "metadata": {
      "needs_background": "light"
     },
     "output_type": "display_data"
    }
   ],
   "source": [
    "ave_correlation = viz_aveAnalysis.plot(kind=\"scatter\", x='Year on Year Sales (%)', y='Year on Year Units (%)', figsize=(9,6))\n",
    "ave_correlation.set_title('Correlation between the Average Year on Year Sales and Units')"
   ]
  },
  {
   "cell_type": "markdown",
   "metadata": {},
   "source": [
    "### Analysis\n",
    "\n",
    "There is even a stronger positive relationship between the Year on Year Sales and Year on Year Units as what is seen in this scatterplot graph. "
   ]
  },
  {
   "cell_type": "markdown",
   "metadata": {},
   "source": [
    "## Summary\n",
    "\n",
    "To conclude, we found that there is a trend in certain types of industry segment upon evaluating the top 250 Restaurants in 2020. **Fast Casuals and Quick Service** have increasing positive trends with regards to their overall YOY Sales/ Units and Total Sales/ Units respectively. In addition, there are some types of industry segment that are struggling such as **Family Casuals**."
   ]
  },
  {
   "cell_type": "code",
   "execution_count": null,
   "metadata": {},
   "outputs": [],
   "source": []
  }
 ],
 "metadata": {
  "kernelspec": {
   "display_name": "Python 3",
   "language": "python",
   "name": "python3"
  },
  "language_info": {
   "codemirror_mode": {
    "name": "ipython",
    "version": 3
   },
   "file_extension": ".py",
   "mimetype": "text/x-python",
   "name": "python",
   "nbconvert_exporter": "python",
   "pygments_lexer": "ipython3",
   "version": "3.8.5"
  }
 },
 "nbformat": 4,
 "nbformat_minor": 4
}
